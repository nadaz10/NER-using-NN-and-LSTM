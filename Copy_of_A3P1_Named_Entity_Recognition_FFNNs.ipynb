{
  "cells": [
    {
      "cell_type": "markdown",
      "metadata": {
        "id": "view-in-github",
        "colab_type": "text"
      },
      "source": [
        "<a href=\"https://colab.research.google.com/github/nadaz10/NER-using-NN-and-LSTM/blob/main/Copy_of_A3P1_Named_Entity_Recognition_FFNNs.ipynb\" target=\"_parent\"><img src=\"https://colab.research.google.com/assets/colab-badge.svg\" alt=\"Open In Colab\"/></a>"
      ]
    },
    {
      "cell_type": "markdown",
      "metadata": {
        "id": "A6czvz5VKO5M"
      },
      "source": [
        "# Notebook for Programming in Problem 3\n",
        "Welcome to the programming portion of the assignment! Each assignment throughout the semester will have a written portion and a programming portion. We will be using [Google Colab](https://colab.research.google.com/notebooks/intro.ipynb#recent=true), so if you have never used it before, take a quick look through this introduction: [Working with Google Colab](https://docs.google.com/document/d/1LlnXoOblXwW3YX-0yG_5seTXJsb3kRdMMRYqs8Qqum4/edit?usp=sharing).\n",
        "\n",
        "We'll also be programming in Python, which we will assume a basic familiarity with. Python has fantastic community support and we'll be using numerous packages for machine learning (ML) and natural language processing (NLP) tasks."
      ]
    },
    {
      "cell_type": "markdown",
      "metadata": {
        "id": "5o8HI5JqTvU5"
      },
      "source": [
        "## Learning Objectives\n",
        "In this problem, we will use [PyTorch](https://pytorch.org/) to implement feedforward neural networks (FFNNs) and long short-term memory (LSTM) for named entity recognition (NER). We will use the same dataset as in Assignment #2."
      ]
    },
    {
      "cell_type": "markdown",
      "metadata": {
        "id": "ObrHyvWvTyGZ"
      },
      "source": [
        "## Writing Code\n",
        "Look for the keyword \"TODO\" and fill in your code in the empty space.\n",
        "Feel free to change function signatures, but be careful that you might need to also change how they are called in other parts of the notebook."
      ]
    },
    {
      "cell_type": "markdown",
      "metadata": {
        "id": "3GAWytObKh4K"
      },
      "source": [
        "## Use GPUs in Colab\n",
        "\n",
        "GPUs are not strictly necessary for this assignment, but they will accerlerate your experiments and may be helpful for your final project. To enable the free GPU provided by Colab, just go to **Edit > Notebook settings** and select **GPU** as **Hardware accelerator**. To test your GPU, run the `nvidia-smi` command."
      ]
    },
    {
      "cell_type": "code",
      "execution_count": 1,
      "metadata": {
        "id": "r6YTnpgbFdMI",
        "colab": {
          "base_uri": "https://localhost:8080/"
        },
        "outputId": "947c76fd-1f36-4f7a-f391-5400d6f055bf"
      },
      "outputs": [
        {
          "output_type": "stream",
          "name": "stdout",
          "text": [
            "Sun May  5 22:06:41 2024       \n",
            "+---------------------------------------------------------------------------------------+\n",
            "| NVIDIA-SMI 535.104.05             Driver Version: 535.104.05   CUDA Version: 12.2     |\n",
            "|-----------------------------------------+----------------------+----------------------+\n",
            "| GPU  Name                 Persistence-M | Bus-Id        Disp.A | Volatile Uncorr. ECC |\n",
            "| Fan  Temp   Perf          Pwr:Usage/Cap |         Memory-Usage | GPU-Util  Compute M. |\n",
            "|                                         |                      |               MIG M. |\n",
            "|=========================================+======================+======================|\n",
            "|   0  Tesla T4                       Off | 00000000:00:04.0 Off |                    0 |\n",
            "| N/A   58C    P8              10W /  70W |      0MiB / 15360MiB |      0%      Default |\n",
            "|                                         |                      |                  N/A |\n",
            "+-----------------------------------------+----------------------+----------------------+\n",
            "                                                                                         \n",
            "+---------------------------------------------------------------------------------------+\n",
            "| Processes:                                                                            |\n",
            "|  GPU   GI   CI        PID   Type   Process name                            GPU Memory |\n",
            "|        ID   ID                                                             Usage      |\n",
            "|=======================================================================================|\n",
            "|  No running processes found                                                           |\n",
            "+---------------------------------------------------------------------------------------+\n"
          ]
        }
      ],
      "source": [
        "!nvidia-smi"
      ]
    },
    {
      "cell_type": "markdown",
      "metadata": {
        "id": "CbgSdkFMMa3E"
      },
      "source": [
        "You should see a table summarizing the current status of the GPU, including the model, power consumption, GPU memory usage, etc. However, Colab does not guarantee which model you will get. We tested the assignment successfully on Tesla T4 but had some problems on other GPUs. **Please make sure you get a Tesla T4** by checking the output of `nvidia-smi`. We empirically observe that you are more likely to get a T4 **with your Princeton account**.\n",
        "\n",
        "If you are still unable to get a T4. You have 3 options:\n",
        "1. Reload the page until you get one.\n",
        "2. Proceed with other GPUs. They should work as long as Colab does not crash when executing code.\n",
        "3. Disable the GPU and use the CPU for this assignment, which is totally fine."
      ]
    },
    {
      "cell_type": "markdown",
      "metadata": {
        "id": "26HdExpsKTOg"
      },
      "source": [
        "## Learning PyTorch\n",
        "\n",
        "This assignment assumes basic familiarity with [PyTorch](https://pytorch.org/), which is a much needed skill for the upcoming Assignment #4, for the final project, and even beyond this course. If you aren't familiar with PyTorch, don't worry, it's a great time to start now! Here are some resources to help you get started. You may also find plenty of them online.\n",
        "\n",
        "* We will cover PyTorch in the precept on 3/18. Watch the video on Canvas if you are not able to make it.\n",
        "* [Deep Learning with PyTorch: A 60 Minute Blitz](https://pytorch.org/tutorials/beginner/deep_learning_60min_blitz.html)\n",
        "* [Learning PyTorch with Examples](https://pytorch.org/tutorials/beginner/pytorch_with_examples.html)\n"
      ]
    },
    {
      "cell_type": "markdown",
      "metadata": {
        "id": "tnYMKJlKNXYe"
      },
      "source": [
        "## Installing PyTorch and Other Packages\n",
        "\n",
        "Install PyTorch using pip. See [https://pytorch.org/](https://pytorch.org/) if you want to install it on your computer."
      ]
    },
    {
      "cell_type": "code",
      "execution_count": 2,
      "metadata": {
        "id": "-dRVuiP_JVdT",
        "colab": {
          "base_uri": "https://localhost:8080/"
        },
        "outputId": "55e1a2ee-8d16-4f0a-90e9-6d02d38690b2"
      },
      "outputs": [
        {
          "output_type": "stream",
          "name": "stdout",
          "text": [
            "Looking in links: https://download.pytorch.org/whl/torch_stable.html\n",
            "Requirement already satisfied: torch in /usr/local/lib/python3.10/dist-packages (2.2.1+cu121)\n",
            "Requirement already satisfied: torchtext in /usr/local/lib/python3.10/dist-packages (0.17.1)\n",
            "Requirement already satisfied: filelock in /usr/local/lib/python3.10/dist-packages (from torch) (3.14.0)\n",
            "Requirement already satisfied: typing-extensions>=4.8.0 in /usr/local/lib/python3.10/dist-packages (from torch) (4.11.0)\n",
            "Requirement already satisfied: sympy in /usr/local/lib/python3.10/dist-packages (from torch) (1.12)\n",
            "Requirement already satisfied: networkx in /usr/local/lib/python3.10/dist-packages (from torch) (3.3)\n",
            "Requirement already satisfied: jinja2 in /usr/local/lib/python3.10/dist-packages (from torch) (3.1.3)\n",
            "Requirement already satisfied: fsspec in /usr/local/lib/python3.10/dist-packages (from torch) (2023.6.0)\n",
            "Collecting nvidia-cuda-nvrtc-cu12==12.1.105 (from torch)\n",
            "  Using cached nvidia_cuda_nvrtc_cu12-12.1.105-py3-none-manylinux1_x86_64.whl (23.7 MB)\n",
            "Collecting nvidia-cuda-runtime-cu12==12.1.105 (from torch)\n",
            "  Using cached nvidia_cuda_runtime_cu12-12.1.105-py3-none-manylinux1_x86_64.whl (823 kB)\n",
            "Collecting nvidia-cuda-cupti-cu12==12.1.105 (from torch)\n",
            "  Using cached nvidia_cuda_cupti_cu12-12.1.105-py3-none-manylinux1_x86_64.whl (14.1 MB)\n",
            "Collecting nvidia-cudnn-cu12==8.9.2.26 (from torch)\n",
            "  Using cached nvidia_cudnn_cu12-8.9.2.26-py3-none-manylinux1_x86_64.whl (731.7 MB)\n",
            "Collecting nvidia-cublas-cu12==12.1.3.1 (from torch)\n",
            "  Using cached nvidia_cublas_cu12-12.1.3.1-py3-none-manylinux1_x86_64.whl (410.6 MB)\n",
            "Collecting nvidia-cufft-cu12==11.0.2.54 (from torch)\n",
            "  Using cached nvidia_cufft_cu12-11.0.2.54-py3-none-manylinux1_x86_64.whl (121.6 MB)\n",
            "Collecting nvidia-curand-cu12==10.3.2.106 (from torch)\n",
            "  Using cached nvidia_curand_cu12-10.3.2.106-py3-none-manylinux1_x86_64.whl (56.5 MB)\n",
            "Collecting nvidia-cusolver-cu12==11.4.5.107 (from torch)\n",
            "  Using cached nvidia_cusolver_cu12-11.4.5.107-py3-none-manylinux1_x86_64.whl (124.2 MB)\n",
            "Collecting nvidia-cusparse-cu12==12.1.0.106 (from torch)\n",
            "  Using cached nvidia_cusparse_cu12-12.1.0.106-py3-none-manylinux1_x86_64.whl (196.0 MB)\n",
            "Collecting nvidia-nccl-cu12==2.19.3 (from torch)\n",
            "  Using cached nvidia_nccl_cu12-2.19.3-py3-none-manylinux1_x86_64.whl (166.0 MB)\n",
            "Collecting nvidia-nvtx-cu12==12.1.105 (from torch)\n",
            "  Using cached nvidia_nvtx_cu12-12.1.105-py3-none-manylinux1_x86_64.whl (99 kB)\n",
            "Requirement already satisfied: triton==2.2.0 in /usr/local/lib/python3.10/dist-packages (from torch) (2.2.0)\n",
            "Collecting nvidia-nvjitlink-cu12 (from nvidia-cusolver-cu12==11.4.5.107->torch)\n",
            "  Using cached nvidia_nvjitlink_cu12-12.4.127-py3-none-manylinux2014_x86_64.whl (21.1 MB)\n",
            "Requirement already satisfied: tqdm in /usr/local/lib/python3.10/dist-packages (from torchtext) (4.66.2)\n",
            "Requirement already satisfied: requests in /usr/local/lib/python3.10/dist-packages (from torchtext) (2.31.0)\n",
            "Requirement already satisfied: numpy in /usr/local/lib/python3.10/dist-packages (from torchtext) (1.25.2)\n",
            "Requirement already satisfied: torchdata==0.7.1 in /usr/local/lib/python3.10/dist-packages (from torchtext) (0.7.1)\n",
            "Requirement already satisfied: urllib3>=1.25 in /usr/local/lib/python3.10/dist-packages (from torchdata==0.7.1->torchtext) (2.0.7)\n",
            "Requirement already satisfied: MarkupSafe>=2.0 in /usr/local/lib/python3.10/dist-packages (from jinja2->torch) (2.1.5)\n",
            "Requirement already satisfied: charset-normalizer<4,>=2 in /usr/local/lib/python3.10/dist-packages (from requests->torchtext) (3.3.2)\n",
            "Requirement already satisfied: idna<4,>=2.5 in /usr/local/lib/python3.10/dist-packages (from requests->torchtext) (3.7)\n",
            "Requirement already satisfied: certifi>=2017.4.17 in /usr/local/lib/python3.10/dist-packages (from requests->torchtext) (2024.2.2)\n",
            "Requirement already satisfied: mpmath>=0.19 in /usr/local/lib/python3.10/dist-packages (from sympy->torch) (1.3.0)\n",
            "Installing collected packages: nvidia-nvtx-cu12, nvidia-nvjitlink-cu12, nvidia-nccl-cu12, nvidia-curand-cu12, nvidia-cufft-cu12, nvidia-cuda-runtime-cu12, nvidia-cuda-nvrtc-cu12, nvidia-cuda-cupti-cu12, nvidia-cublas-cu12, nvidia-cusparse-cu12, nvidia-cudnn-cu12, nvidia-cusolver-cu12\n",
            "Successfully installed nvidia-cublas-cu12-12.1.3.1 nvidia-cuda-cupti-cu12-12.1.105 nvidia-cuda-nvrtc-cu12-12.1.105 nvidia-cuda-runtime-cu12-12.1.105 nvidia-cudnn-cu12-8.9.2.26 nvidia-cufft-cu12-11.0.2.54 nvidia-curand-cu12-10.3.2.106 nvidia-cusolver-cu12-11.4.5.107 nvidia-cusparse-cu12-12.1.0.106 nvidia-nccl-cu12-2.19.3 nvidia-nvjitlink-cu12-12.4.127 nvidia-nvtx-cu12-12.1.105\n"
          ]
        }
      ],
      "source": [
        "!pip install torch torchtext -f https://download.pytorch.org/whl/torch_stable.html"
      ]
    },
    {
      "cell_type": "markdown",
      "metadata": {
        "id": "TPsFH637OpLy"
      },
      "source": [
        "Test if our installation works:"
      ]
    },
    {
      "cell_type": "code",
      "execution_count": 3,
      "metadata": {
        "id": "c62StNb2NvKk",
        "colab": {
          "base_uri": "https://localhost:8080/"
        },
        "outputId": "6ac7f868-fea5-4e2b-c434-7263b1ab5f5c"
      },
      "outputs": [
        {
          "output_type": "stream",
          "name": "stdout",
          "text": [
            "PyTorch successfully installed!\n",
            "Version: 2.2.1+cu121\n"
          ]
        }
      ],
      "source": [
        "import torch\n",
        "\n",
        "# Multiply two matrices on GPU\n",
        "a = torch.rand(100, 200).cuda()\n",
        "b = torch.rand(200, 100).cuda()\n",
        "c = torch.matmul(a, b)\n",
        "\n",
        "print(\"PyTorch successfully installed!\")\n",
        "print(\"Version:\", torch.__version__)"
      ]
    },
    {
      "cell_type": "markdown",
      "metadata": {
        "id": "1qaC8sxcqkGX"
      },
      "source": [
        "Also install [scikit-learn](https://scikit-learn.org/stable/). We will use it for calculating evaluation metrics such as accuracy and F1 score."
      ]
    },
    {
      "cell_type": "code",
      "execution_count": 4,
      "metadata": {
        "id": "i5Y2xB_uqqM9",
        "colab": {
          "base_uri": "https://localhost:8080/"
        },
        "outputId": "8087f7dc-7480-4f61-96af-21240c30b556"
      },
      "outputs": [
        {
          "output_type": "stream",
          "name": "stdout",
          "text": [
            "Requirement already satisfied: scikit-learn in /usr/local/lib/python3.10/dist-packages (1.2.2)\n",
            "Collecting scikit-learn\n",
            "  Downloading scikit_learn-1.4.2-cp310-cp310-manylinux_2_17_x86_64.manylinux2014_x86_64.whl (12.1 MB)\n",
            "\u001b[2K     \u001b[90m━━━━━━━━━━━━━━━━━━━━━━━━━━━━━━━━━━━━━━━━\u001b[0m \u001b[32m12.1/12.1 MB\u001b[0m \u001b[31m37.1 MB/s\u001b[0m eta \u001b[36m0:00:00\u001b[0m\n",
            "\u001b[?25hRequirement already satisfied: numpy>=1.19.5 in /usr/local/lib/python3.10/dist-packages (from scikit-learn) (1.25.2)\n",
            "Requirement already satisfied: scipy>=1.6.0 in /usr/local/lib/python3.10/dist-packages (from scikit-learn) (1.11.4)\n",
            "Requirement already satisfied: joblib>=1.2.0 in /usr/local/lib/python3.10/dist-packages (from scikit-learn) (1.4.0)\n",
            "Requirement already satisfied: threadpoolctl>=2.0.0 in /usr/local/lib/python3.10/dist-packages (from scikit-learn) (3.5.0)\n",
            "Installing collected packages: scikit-learn\n",
            "  Attempting uninstall: scikit-learn\n",
            "    Found existing installation: scikit-learn 1.2.2\n",
            "    Uninstalling scikit-learn-1.2.2:\n",
            "      Successfully uninstalled scikit-learn-1.2.2\n",
            "Successfully installed scikit-learn-1.4.2\n"
          ]
        }
      ],
      "source": [
        "!pip install -U scikit-learn"
      ]
    },
    {
      "cell_type": "markdown",
      "metadata": {
        "id": "bhV4CYivRbt4"
      },
      "source": [
        "Let's import all the packages at once:"
      ]
    },
    {
      "cell_type": "code",
      "execution_count": 5,
      "metadata": {
        "id": "EjRM4cCFRh-d"
      },
      "outputs": [],
      "source": [
        "import torch\n",
        "import torch.nn as nn\n",
        "import torch.optim as optim\n",
        "import torch.nn.functional as F\n",
        "from torch.utils.data import Dataset, DataLoader\n",
        "from torchtext.vocab import Vocab, vocab\n",
        "import numpy as np\n",
        "from sklearn.metrics import accuracy_score, f1_score, confusion_matrix\n",
        "import re\n",
        "from collections import Counter\n",
        "from typing import List, Tuple, Dict, Optional, Any"
      ]
    },
    {
      "cell_type": "markdown",
      "metadata": {
        "id": "Yn1bIPjAN-9V"
      },
      "source": [
        "## Feedforward Neural Network (FFNN)"
      ]
    },
    {
      "cell_type": "markdown",
      "metadata": {
        "id": "sJOKIneRTrTH"
      },
      "source": [
        "### Data Loading\n",
        "\n",
        "We will use the same dataset for named entity recognition in Assignment #2. First download the data and take a look at the first 50 lines:"
      ]
    },
    {
      "cell_type": "code",
      "execution_count": 6,
      "metadata": {
        "id": "lWqz7kDxSqeb",
        "colab": {
          "base_uri": "https://localhost:8080/"
        },
        "outputId": "e3d064a1-c116-44a4-9035-4613d8a973da"
      },
      "outputs": [
        {
          "output_type": "stream",
          "name": "stdout",
          "text": [
            "EU NNP I-NP ORG\n",
            "rejects VBZ I-VP O\n",
            "German JJ I-NP MISC\n",
            "call NN I-NP O\n",
            "to TO I-VP O\n",
            "boycott VB I-VP O\n",
            "British JJ I-NP MISC\n",
            "lamb NN I-NP O\n",
            ". . O O\n",
            "\n",
            "Peter NNP I-NP PER\n",
            "Blackburn NNP I-NP PER\n",
            "\n",
            "BRUSSELS NNP I-NP LOC\n",
            "1996-08-22 CD I-NP O\n",
            "\n",
            "The DT I-NP O\n",
            "European NNP I-NP ORG\n",
            "Commission NNP I-NP ORG\n",
            "said VBD I-VP O\n",
            "on IN I-PP O\n",
            "Thursday NNP I-NP O\n",
            "it PRP B-NP O\n",
            "disagreed VBD I-VP O\n",
            "with IN I-PP O\n",
            "German JJ I-NP MISC\n",
            "advice NN I-NP O\n",
            "to TO I-PP O\n",
            "consumers NNS I-NP O\n",
            "to TO I-VP O\n",
            "shun VB I-VP O\n",
            "British JJ I-NP MISC\n",
            "lamb NN I-NP O\n",
            "until IN I-SBAR O\n",
            "scientists NNS I-NP O\n",
            "determine VBP I-VP O\n",
            "whether IN I-SBAR O\n",
            "mad JJ I-NP O\n",
            "cow NN I-NP O\n",
            "disease NN I-NP O\n",
            "can MD I-VP O\n",
            "be VB I-VP O\n",
            "transmitted VBN I-VP O\n",
            "to TO I-PP O\n",
            "sheep NN I-NP O\n",
            ". . O O\n",
            "\n",
            "Germany NNP I-NP LOC\n",
            "'s POS B-NP O\n",
            "representative NN I-NP O\n"
          ]
        }
      ],
      "source": [
        "!wget --quiet https://princeton-nlp.github.io/cos484/assignments/a2/eng.train\n",
        "!wget --quiet https://princeton-nlp.github.io/cos484/assignments/a2/eng.val\n",
        "!cat eng.train | head -n 50"
      ]
    },
    {
      "cell_type": "markdown",
      "metadata": {
        "id": "YVt1a6nzWsiF"
      },
      "source": [
        "Each line corresponds to a word. Different sentences are separated by an additional line break. Take \"EU NNP I-NP ORG\" as an example. \"EU\" is a word. \"NNP\" and \"I-NP\" are tags for POS tagging and chunking, which we will ignore. \"ORG\" is the tag for NER, which is our prediction target. There are 5 possible values for the NER tag: ORG, PER, LOC, MISC, and O.\n",
        "\n"
      ]
    },
    {
      "cell_type": "markdown",
      "metadata": {
        "id": "ooQEJEafWCcd"
      },
      "source": [
        "First, we write a dataloader for loading the dataset into mini-batches used for training the model. See [torch.utils.data](https://pytorch.org/docs/stable/data.html) for how dataloaders work in PyTorch. In short, we typically need to do two things:\n",
        "1. Define a [map-style dataset](https://pytorch.org/docs/stable/data.html#map-style-datasets) by subclassing [Dataset](https://pytorch.org/docs/stable/data.html#torch.utils.data.Dataset) and overriding 3 methods: `__init__`, `__getitem__`, and `__len__`.\n",
        "1. Create a [Dataloader](https://pytorch.org/docs/stable/data.html#torch.utils.data.Dataset) by calling its constructor. We have to specify the dataset and a few hyperparameters such as batch size.\n",
        "\n",
        "Most of the work has been done by us. As a simple exercise, try to understand the code and implement `__len__`."
      ]
    },
    {
      "cell_type": "code",
      "execution_count": 7,
      "metadata": {
        "id": "WnNfOBUYJvVW"
      },
      "outputs": [],
      "source": [
        "# A sentence is a list of (word, tag) tuples.\n",
        "# For example, [(\"hello\", \"O\"), (\"world\", \"O\"), (\"!\", \"O\")]\n",
        "Sentence = List[Tuple[str, str]]\n",
        "\n",
        "\n",
        "def read_data_file(\n",
        "    datapath: str,\n",
        ") -> Tuple[List[Sentence], Dict[str, int], Dict[str, int]]:\n",
        "    \"\"\"\n",
        "    Read and preprocess input data from the file `datapath`.\n",
        "    Example:\n",
        "    ```\n",
        "        sentences, word_cnt, tag_cnt = read_data_file(\"eng.train\")\n",
        "    ```\n",
        "    Return values:\n",
        "        `sentences`: a list of sentences, including words and NER tags\n",
        "        `word_cnt`: a Counter object, the number of occurrences of each word\n",
        "        `tag_cnt`: a Counter object, the number of occurences of each NER tag\n",
        "    \"\"\"\n",
        "    sentences: List[Sentence] = []\n",
        "    word_cnt: Dict[str, int] = Counter()\n",
        "    tag_cnt: Dict[str, int] = Counter()\n",
        "\n",
        "    for sentence_txt in open(datapath).read().split(\"\\n\\n\"):\n",
        "        if \"DOCSTART\" in sentence_txt:\n",
        "            # Ignore dummy sentences at the begining of each document.\n",
        "            continue\n",
        "        # Read a new sentence\n",
        "        sentences.append([])\n",
        "        for token in sentence_txt.split(\"\\n\"):\n",
        "            w, _, _, t = token.split()\n",
        "            # Replace all digits with \"0\" to reduce out-of-vocabulary words\n",
        "            w = re.sub(\"\\d\", \"0\", w)\n",
        "            word_cnt[w] += 1\n",
        "            tag_cnt[t] += 1\n",
        "            sentences[-1].append((w, t))\n",
        "\n",
        "    return sentences, word_cnt, tag_cnt\n",
        "\n"
      ]
    },
    {
      "cell_type": "markdown",
      "source": [
        "**Let's visualize the dataset**"
      ],
      "metadata": {
        "id": "NLceGi4h5M3_"
      }
    },
    {
      "cell_type": "code",
      "source": [
        "import matplotlib.pyplot as plt\n",
        "import numpy as np\n",
        "\n",
        "def visualize_word_counts(word_cnt):\n",
        "    # Get the 20 most common words and their counts\n",
        "    words, counts = zip(*word_cnt.most_common(20))\n",
        "\n",
        "    # Create a colormap using Plasma\n",
        "    colors = plt.cm.plasma(np.linspace(0, 1, len(words)))\n",
        "\n",
        "    # Plot word counts\n",
        "    plt.figure(figsize=(10, 5))\n",
        "    bars = plt.bar(words, counts, color=colors)\n",
        "    plt.xlabel('Words')\n",
        "    plt.ylabel('Counts')\n",
        "    plt.title('Word Counts')\n",
        "    plt.xticks(rotation=90)\n",
        "\n",
        "    # Add a colorbar to indicate word frequency\n",
        "    cbar = plt.colorbar(plt.cm.ScalarMappable(cmap='plasma'), ax=plt.gca())\n",
        "    cbar.set_label('Word Frequency')\n",
        "\n",
        "    plt.show()\n",
        "\n",
        "def visualize_tag_counts(tag_cnt):\n",
        "    # Get tags and their counts\n",
        "    tags, counts = zip(*tag_cnt.items())\n",
        "\n",
        "    # Create a colormap using Plasma\n",
        "    colors = plt.cm.plasma(np.linspace(0, 1, len(tags)))\n",
        "\n",
        "    # Plot tag counts\n",
        "    plt.figure(figsize=(6, 5))\n",
        "    bars = plt.bar(tags, counts, color=colors)\n",
        "    plt.xlabel('Tags')\n",
        "    plt.ylabel('Counts')\n",
        "    plt.title('Tag Counts')\n",
        "    plt.xticks(rotation=45)\n",
        "\n",
        "    # Add a colorbar to indicate tag frequency\n",
        "    cbar = plt.colorbar(plt.cm.ScalarMappable(cmap='plasma'), ax=plt.gca())\n",
        "    cbar.set_label('Tag Frequency')\n",
        "\n",
        "    plt.show()\n",
        "\n",
        "# Assuming you already have the word_cnt and tag_cnt dictionaries from your read_data_file function\n",
        "visualize_word_counts(word_cnt)\n",
        "visualize_tag_counts(tag_cnt)\n",
        "\n",
        "\n",
        "\n"
      ],
      "metadata": {
        "colab": {
          "base_uri": "https://localhost:8080/",
          "height": 992
        },
        "id": "9APD9LW_2RKk",
        "outputId": "e05fbcfe-8cf9-4237-91c3-95cc13b68403"
      },
      "execution_count": 24,
      "outputs": [
        {
          "output_type": "display_data",
          "data": {
            "text/plain": [
              "<Figure size 1000x500 with 2 Axes>"
            ],
            "image/png": "[encoded data removed]"
          },
          "metadata": {}
        },
        {
          "output_type": "display_data",
          "data": {
            "text/plain": [
              "<Figure size 600x500 with 2 Axes>"
            ],
            "image/png": "[encoded data removed]"
          },
          "metadata": {}
        }
      ]
    },
    {
      "cell_type": "markdown",
      "metadata": {
        "id": "zFVnIjA8KEe0"
      },
      "source": [
        "## Implement the `__len__` function below **(1 point)**"
      ]
    },
    {
      "cell_type": "markdown",
      "source": [
        "-It extracts fixed windows centered around each word in the dataset.\n",
        "\n",
        "\n",
        "-It creates vocabulary objects for words and tags, where START, END, and UNKNOWN are treated as special tokens"
      ],
      "metadata": {
        "id": "acSReN0i5V-A"
      }
    },
    {
      "cell_type": "code",
      "execution_count": 8,
      "metadata": {
        "id": "9RGv1K0pP1bR"
      },
      "outputs": [],
      "source": [
        "\n",
        "class FixedWindowDataset(Dataset):\n",
        "    \"\"\"\n",
        "    Each data example is a word, its NER tag (the target), and a fixed window centered around it (the input).\n",
        "    \"\"\"\n",
        "\n",
        "    def __init__(\n",
        "        self,\n",
        "        datapath: str,\n",
        "        window_size: int,\n",
        "        words_vocab: Optional[Vocab] = None,\n",
        "        tags_vocab: Optional[Vocab] = None,\n",
        "    ) -> None:\n",
        "        \"\"\"\n",
        "        Initialize the dataset by reading from datapath.\n",
        "        \"\"\"\n",
        "        super().__init__()\n",
        "        self.examples = []\n",
        "        START = \"<START>\"\n",
        "        END = \"<END>\"\n",
        "        UNKNOWN = \"<UNKNOWN>\"\n",
        "\n",
        "\n",
        "        #Loads from datapath:\n",
        "\n",
        "        print(\"Loading data from %s\" % datapath)\n",
        "        sentences, word_cnt, tag_cnt = read_data_file(datapath)\n",
        "\n",
        "        # Extract windows\n",
        "        for sent in sentences:\n",
        "            words = [START for _ in range(window_size)]\n",
        "            tags = [None for _ in range(window_size)]\n",
        "            for w, t in sent:\n",
        "                words.append(w)\n",
        "                tags.append(t)\n",
        "            words.extend([END for _ in range(window_size)])\n",
        "            tags.extend([None for _ in range(window_size)])\n",
        "\n",
        "            for i, t in enumerate(tags[window_size:-window_size], start=window_size):\n",
        "                self.examples.append(\n",
        "                    {\n",
        "                        \"word\": words[i],\n",
        "                        \"tag\": t,\n",
        "                        \"context\": words[i - window_size : i + window_size + 1],\n",
        "                    }\n",
        "                )\n",
        "\n",
        "        print(\"%d examples loaded.\" % len(self.examples))\n",
        "\n",
        "        # set vocabs\n",
        "        if words_vocab is None:\n",
        "            words_vocab = vocab(word_cnt, specials=[START, END, UNKNOWN]) # automatically create a vocabulary from words in dataset\n",
        "            words_vocab.set_default_index(words_vocab[UNKNOWN])\n",
        "        self.words_vocab = words_vocab\n",
        "        self.unknown_idx = self.words_vocab[UNKNOWN]\n",
        "        self.start_idx = self.words_vocab[START]\n",
        "        self.end_idx = self.words_vocab[END]\n",
        "\n",
        "        if tags_vocab is None:\n",
        "            tags_vocab = vocab(tag_cnt, specials=[]) # automatically create tags vocabulary from tags in dataset\n",
        "        self.tags_vocab = tags_vocab\n",
        "\n",
        "    def __getitem__(self, idx: int) -> Dict[str, Any]:\n",
        "        \"\"\"\n",
        "        Get the idx'th example in the dataset.\n",
        "        Convert words and the tag to indexes.\n",
        "        \"\"\"\n",
        "        example = self.examples[idx]\n",
        "        word = example[\"word\"]\n",
        "        tag = example[\"tag\"]\n",
        "        context = example[\"context\"]\n",
        "        return {\n",
        "            \"word\": word,\n",
        "            \"word_idx\": self.words_vocab[word],\n",
        "            \"tag\": tag,\n",
        "            \"tag_idx\": self.tags_vocab[tag],\n",
        "            \"context\": context,\n",
        "            \"context_idxs\": torch.tensor(\n",
        "                [self.words_vocab[w] for w in context]\n",
        "            ),\n",
        "        }\n",
        "\n",
        "    def __len__(self) -> int:\n",
        "         return len(self.examples)\n",
        "\n",
        "\n"
      ]
    },
    {
      "cell_type": "code",
      "execution_count": 9,
      "metadata": {
        "id": "F-aHcN5yJyoa"
      },
      "outputs": [],
      "source": [
        "def create_fixed_window_dataloaders(\n",
        "    batch_size: int, window_size: int, shuffle: bool = True\n",
        ") -> Tuple[DataLoader, DataLoader, Dict[str, Vocab]]:\n",
        "    \"\"\"\n",
        "    Create the dataloaders for training and validaiton.\n",
        "    \"\"\"\n",
        "    ds_train = FixedWindowDataset(\"eng.train\", window_size)\n",
        "    # Re-use the vocabulary of the training data\n",
        "    ds_val = FixedWindowDataset(\"eng.val\", window_size, words_vocab=ds_train.words_vocab, tags_vocab=ds_train.tags_vocab)\n",
        "    loader_train = DataLoader(\n",
        "        ds_train, batch_size, shuffle, drop_last=True, pin_memory=True\n",
        "    )\n",
        "    loader_val = DataLoader(ds_val, batch_size, pin_memory=True)\n",
        "    return loader_train, loader_val, ds_train"
      ]
    },
    {
      "cell_type": "markdown",
      "source": [
        "to visualize a fixed window:"
      ],
      "metadata": {
        "id": "Lv8IPiDG6ySG"
      }
    },
    {
      "cell_type": "code",
      "source": [
        "import random\n",
        "\n",
        "# Get a random subset of examples from ds_train\n",
        "num_examples_to_visualize = 2\n",
        "random_examples = random.sample(ds_train.examples, num_examples_to_visualize)\n",
        "\n",
        "# Visualize the windowed context for each example\n",
        "for i, example in enumerate(random_examples, 1):\n",
        "    word = example[\"word\"]\n",
        "    tag = example[\"tag\"]\n",
        "    context = example[\"context\"]\n",
        "    print(f\"Example {i}:\")\n",
        "    print(f\"Word: {word}, Tag: {tag}\")\n",
        "    print(\"Context:\")\n",
        "    print(context)\n",
        "    print()\n"
      ],
      "metadata": {
        "colab": {
          "base_uri": "https://localhost:8080/"
        },
        "id": "hbooKPFe6LCw",
        "outputId": "676effb4-4e15-45a4-d403-8e8b3428e2dc"
      },
      "execution_count": 28,
      "outputs": [
        {
          "output_type": "stream",
          "name": "stdout",
          "text": [
            "Example 1:\n",
            "Word: past, Tag: O\n",
            "Context:\n",
            "['line', 'in', 'the', 'past', 'when', 'Moslem', 'refugees']\n",
            "\n",
            "Example 2:\n",
            "Word: its, Tag: O\n",
            "Context:\n",
            "['later', 'IVAC', 'improved', 'its', 'system', 'with', 'the']\n",
            "\n"
          ]
        }
      ]
    },
    {
      "cell_type": "markdown",
      "metadata": {
        "id": "ODfPyQjPSmCv"
      },
      "source": [
        "Let's test our dataloader. Try to understand the output, as it will save your time later."
      ]
    },
    {
      "cell_type": "code",
      "execution_count": 31,
      "metadata": {
        "id": "Zmt9c9svgzy8",
        "colab": {
          "base_uri": "https://localhost:8080/"
        },
        "outputId": "1d19486e-312c-4b21-a4db-33273ba2ba4b"
      },
      "outputs": [
        {
          "output_type": "stream",
          "name": "stdout",
          "text": [
            "Loading data from eng.train\n",
            "203621 examples loaded.\n",
            "Loading data from eng.val\n",
            "49086 examples loaded.\n",
            "Iterating on the training data..\n",
            "{'word': ['EU', 'rejects', 'German'], 'word_idx': tensor([3, 4, 5]), 'tag': ['ORG', 'O', 'MISC'], 'tag_idx': tensor([0, 1, 2]), 'context': [['<START>', '<START>', 'EU'], ['<START>', 'EU', 'rejects'], ['EU', 'rejects', 'German'], ['rejects', 'German', 'call'], ['German', 'call', 'to']], 'context_idxs': tensor([[0, 0, 3, 4, 5],\n",
            "        [0, 3, 4, 5, 6],\n",
            "        [3, 4, 5, 6, 7]])}\n",
            "5\n",
            "torch.Size([3, 5])\n",
            "Done!\n"
          ]
        }
      ],
      "source": [
        "def check_fixed_window_dataloader() -> None:\n",
        "    loader_train, _, _ = create_fixed_window_dataloaders(\n",
        "        batch_size=3, window_size=2, shuffle=False\n",
        "    )\n",
        "    print(\"Iterating on the training data..\")\n",
        "    for i, data_batch in enumerate(loader_train):\n",
        "        if i == 0:\n",
        "            print(data_batch)\n",
        "            print(len(data_batch[\"context\"]))\n",
        "            print(data_batch[\"context_idxs\"].shape)\n",
        "    print(\"Done!\")\n",
        "\n",
        "\n",
        "check_fixed_window_dataloader()"
      ]
    },
    {
      "cell_type": "code",
      "source": [],
      "metadata": {
        "id": "j0bPJh_87SGd"
      },
      "execution_count": null,
      "outputs": []
    },
    {
      "cell_type": "markdown",
      "metadata": {
        "id": "hR_aJ-FincuN"
      },
      "source": [
        "### Implement the Model **(4 points)**   \n",
        "\n",
        "Next, let's implement feedforward neural networks following the description of Problem 1 in Assignment #3.\n",
        "\n",
        "Models in PyTorch are subclasses of [torch.nn.Module](https://pytorch.org/docs/stable/generated/torch.nn.Module.html#torch.nn.Module). You have to override `__init__` for initializing the model and `forward` for calculating the forward pass. Checkout this [tutorial](https://pytorch.org/tutorials/beginner/nn_tutorial.html#) if you are not sure how torch.nn.Module works.\n",
        "\n",
        "PyTorch provides a wide array of [neural network layers](https://pytorch.org/docs/stable/nn.html) as building blocks for your model. Here are some of them that may be relevant:\n",
        "* [nn.Embedding](https://pytorch.org/docs/stable/generated/torch.nn.Embedding.html#torch.nn.Embedding)\n",
        "* [nn.Linear](https://pytorch.org/docs/stable/generated/torch.nn.Linear.html#torch.nn.Linear)\n",
        "* [torch.sigmoid](https://pytorch.org/docs/stable/generated/torch.sigmoid.html#torch.sigmoid) or [nn.Sigmoid](https://pytorch.org/docs/stable/generated/torch.nn.Sigmoid.html#torch.nn.Sigmoid)\n",
        "\n",
        "Note a difference with Problem 3 of Assignment #2 is that we do not apply softmax when calculatinng $\\hat{y}^{(t)}$. Instead, we leave what softmax does to the loss function [F.cross_entropy](https://pytorch.org/docs/stable/nn.functional.html#torch.nn.functional.cross_entropy). For details, please see its difference with [F.nll_loss](https://pytorch.org/docs/stable/nn.functional.html#torch.nn.functional.nll_loss)."
      ]
    },
    {
      "cell_type": "markdown",
      "source": [
        "**Explanation of the model:**\n",
        "\n",
        "it's a 2 layers model with a sigmoid activation function\n"
      ],
      "metadata": {
        "id": "vHODV0mu76Xz"
      }
    },
    {
      "cell_type": "code",
      "execution_count": 11,
      "metadata": {
        "id": "Hx0oMgVffSD1"
      },
      "outputs": [],
      "source": [
        "class FFNN(nn.Module):\n",
        "    \"\"\"\n",
        "    Feedforward Neural Networks for NER\n",
        "    \"\"\"\n",
        "\n",
        "    def __init__(\n",
        "        self, words_vocab: Vocab, tags_vocab: Vocab, window_size: int, d_emb: int, d_hidden: int\n",
        "    ) -> None:\n",
        "        \"\"\"\n",
        "        Initialize a two-layer feedforward neural network with sigmoid activation.\n",
        "        Parameters:\n",
        "            `words_vocab`: vocabulary of words\n",
        "            `tags_vocab`: vocabulary of tags\n",
        "            `window_size`: size of the context window (w in Problem 3 of Assignment #2)\n",
        "            `d_emb`: dimension of word embeddings (D in Problem 3 of Assignment #2)\n",
        "            `d_hidden`: dimension of the hidden layer (H in Problem 3 of Assignment #2)\n",
        "        \"\"\"\n",
        "        super().__init__()\n",
        "        self.words_vocab_size = len(words_vocab)\n",
        "        self.tags_vocab_size = len(tags_vocab)\n",
        "        self.embedding = nn.Embedding(self.words_vocab_size, d_emb)\n",
        "        self.hidden_layer = nn.Linear((2 * window_size + 1) * d_emb, d_hidden)\n",
        "        self.output_layer = nn.Linear(d_hidden, self.tags_vocab_size)\n",
        "\n",
        "    def forward(self, context_idxs: torch.Tensor) -> torch.Tensor:\n",
        "        \"\"\"\n",
        "        Given the word indexes in a context window, predict the logits of the NER tag.\n",
        "        Parameters:\n",
        "            `context_idxs`: a batch_size x (2 * window_size + 1) tensor\n",
        "                          context_idxs[i] contains word indexes in the window of the i'th data example.\n",
        "        Return values:\n",
        "            `logits`: a batch_size x 5 tensor (\\hat{y}^{(t)} in Problem 3 of Assignment #2, without softmax)\n",
        "                    logits[i][j] is the output score (before softmax) of the i'th example for tag j.\n",
        "        \"\"\"\n",
        "        batch_size = context_idxs.size(0)\n",
        "        embedded = self.embedding(context_idxs)  # Shape: batch_size x (2 * window_size + 1) x d_emb\n",
        "        embedded_flat = embedded.view(batch_size, -1)  # Shape: batch_size x ((2 * window_size + 1) * d_emb)\n",
        "        hidden = F.sigmoid(self.hidden_layer(embedded_flat))  # Shape: batch_size x d_hidden\n",
        "        logits = self.output_layer(hidden)  # Shape: batch_size x tags_vocab_size\n",
        "        return logits"
      ]
    },
    {
      "cell_type": "markdown",
      "metadata": {
        "id": "CyZCvfOMR7YP"
      },
      "source": [
        "Optionally, let's do a simple sanity check of your implementation. In `check_ffnn`, we load a batch of data examples and pass it through the FFNN."
      ]
    },
    {
      "cell_type": "code",
      "execution_count": 12,
      "metadata": {
        "id": "WLMGYSZ7KxzP"
      },
      "outputs": [],
      "source": [
        "# Some helper code\n",
        "def get_device() -> torch.device:\n",
        "    \"\"\"\n",
        "    Use GPU when it is available; use CPU otherwise.\n",
        "    See https://pytorch.org/docs/stable/notes/cuda.html#device-agnostic-code\n",
        "    \"\"\"\n",
        "    return torch.device(\"cuda\") if torch.cuda.is_available() else torch.device(\"cpu\")\n"
      ]
    },
    {
      "cell_type": "code",
      "execution_count": 13,
      "metadata": {
        "id": "H7jikP_1fZP-",
        "colab": {
          "base_uri": "https://localhost:8080/"
        },
        "outputId": "b1f3733b-b5e3-4932-c6e4-d7ef774e5508"
      },
      "outputs": [
        {
          "output_type": "stream",
          "name": "stdout",
          "text": [
            "Loading data from eng.train\n",
            "203621 examples loaded.\n",
            "Loading data from eng.val\n",
            "49086 examples loaded.\n",
            "FFNN(\n",
            "  (embedding): Embedding(20103, 64)\n",
            "  (hidden_layer): Linear(in_features=448, out_features=128, bias=True)\n",
            "  (output_layer): Linear(in_features=128, out_features=5, bias=True)\n",
            ")\n",
            "Input tensor shape: torch.Size([3, 7])\n",
            "Output tensor shape: torch.Size([3, 5])\n"
          ]
        }
      ],
      "source": [
        "def check_ffnn() -> None:\n",
        "\n",
        "  # Hyperparameters\n",
        "  batch_size = 3\n",
        "  d_emb = 64\n",
        "  d_hidden = 128\n",
        "  window_size = 3\n",
        "\n",
        "\n",
        "  # Create the dataloaders and the model\n",
        "  loader_train, _, ds_train = create_fixed_window_dataloaders(batch_size, window_size)\n",
        "  model = FFNN(ds_train.words_vocab, ds_train.tags_vocab, window_size, d_emb, d_hidden)\n",
        "  device = get_device()\n",
        "  model.to(device)\n",
        "  print(model)\n",
        "\n",
        "  # Get the first batch\n",
        "  data_batch = next(iter(loader_train))\n",
        "\n",
        "  # Move data to GPU\n",
        "  context_idxs = data_batch[\"context_idxs\"].to(device, non_blocking=True)\n",
        "  tag_idx = data_batch[\"tag_idx\"].to(device, non_blocking=True)\n",
        "\n",
        "  # Calculate the model\n",
        "  print(\"Input tensor shape:\", context_idxs.size())\n",
        "  logits = model(context_idxs)\n",
        "  print(\"Output tensor shape:\", logits.size())\n",
        "\n",
        "check_ffnn()"
      ]
    },
    {
      "cell_type": "markdown",
      "source": [
        "seeing the shapes of the the hidden and the output layers of the model informs as how the model has learned the output layer extracted only 5 features >> the 5 tags"
      ],
      "metadata": {
        "id": "4Yrsypn092Wb"
      }
    },
    {
      "cell_type": "code",
      "execution_count": 14,
      "metadata": {
        "id": "PkRIOgeXIng0",
        "colab": {
          "base_uri": "https://localhost:8080/"
        },
        "outputId": "9963dec1-45f1-4940-e5b7-afce907f3ff6"
      },
      "outputs": [
        {
          "output_type": "stream",
          "name": "stdout",
          "text": [
            "Loading data from eng.train\n",
            "203621 examples loaded.\n"
          ]
        }
      ],
      "source": [
        "ds_train = FixedWindowDataset(\"eng.train\", 3)"
      ]
    },
    {
      "cell_type": "markdown",
      "metadata": {
        "id": "a0angAnEno9v"
      },
      "source": [
        "### Training and Validation  **(4 points)**   \n",
        "\n",
        "Having implemented the model, the next step is to implement functions for training and validation."
      ]
    },
    {
      "cell_type": "code",
      "execution_count": 15,
      "metadata": {
        "id": "vWcKwiIMjekY"
      },
      "outputs": [],
      "source": [
        "def eval_metrics(ground_truth: List[int], predictions: List[int]) -> Dict[str, Any]:\n",
        "    \"\"\"\n",
        "    Calculate various evaluation metrics such as accuracy and F1 score\n",
        "    Parameters:\n",
        "        `ground_truth`: the list of ground truth NER tags\n",
        "        `predictions`: the list of predicted NER tags\n",
        "    \"\"\"\n",
        "    f1_scores = f1_score(ground_truth, predictions, average=None)\n",
        "    return {\n",
        "        \"accuracy\": accuracy_score(ground_truth, predictions),\n",
        "        \"f1\": f1_scores,\n",
        "        \"average f1\": np.mean(f1_scores),\n",
        "        \"confusion matrix\": confusion_matrix(ground_truth, predictions),\n",
        "    }\n",
        "\n",
        "\n",
        "def train_ffnn(\n",
        "    model: nn.Module,\n",
        "    loader: DataLoader,\n",
        "    optimizer: optim.Optimizer,\n",
        "    device: torch.device,\n",
        "    silent: bool = False,  # whether to print the training loss\n",
        ") -> Tuple[float, Dict[str, Any]]:\n",
        "    \"\"\"\n",
        "    Train the FFNN model.\n",
        "    Return values:\n",
        "        1. the average training loss\n",
        "        2. training metrics such as accuracy and F1 score\n",
        "    \"\"\"\n",
        "    model.train()\n",
        "    ground_truth = []\n",
        "    predictions = []\n",
        "    losses = []\n",
        "    report_interval = 100\n",
        "\n",
        "    for i, data_batch in enumerate(loader):\n",
        "        context_idxs = data_batch[\"context_idxs\"].to(device, non_blocking=True)\n",
        "        tag_idx = data_batch[\"tag_idx\"].to(device, non_blocking=True)\n",
        "\n",
        "        logits = model(context_idxs)\n",
        "\n",
        "        # Calculate the loss using the output and the ground truth tags\n",
        "        loss = F.cross_entropy(logits, tag_idx)\n",
        "\n",
        "        # Perform the backward pass to calculate the gradient\n",
        "        optimizer.zero_grad()\n",
        "        loss.backward()\n",
        "\n",
        "        # Use the optimizer to update model parameters\n",
        "        optimizer.step()\n",
        "        losses.append(loss.item())\n",
        "        ground_truth.extend(tag_idx.tolist())\n",
        "        predictions.extend(logits.argmax(dim=-1).tolist())\n",
        "\n",
        "        if not silent and i > 0 and i % report_interval == 0:\n",
        "            print(\n",
        "                \"\\t[%06d/%06d] Loss: %f\"\n",
        "                % (i, len(loader), np.mean(losses[-report_interval:]))\n",
        "            )\n",
        "\n",
        "    return np.mean(losses), eval_metrics(ground_truth, predictions)\n",
        "\n",
        "\n",
        "def validate_ffnn(\n",
        "    model: nn.Module, loader: DataLoader, device: torch.device\n",
        ") -> Tuple[float, Dict[str, Any]]:\n",
        "    \"\"\"\n",
        "    Validate the FFNN model.\n",
        "    Return values:\n",
        "        1. the average validation loss\n",
        "        2. validation metrics such as accuracy and F1 score\n",
        "    \"\"\"\n",
        "    model.eval()\n",
        "    ground_truth = []\n",
        "    predictions = []\n",
        "    losses = []\n",
        "\n",
        "    with torch.no_grad():\n",
        "\n",
        "        for data_batch in loader:\n",
        "            context_idxs = data_batch[\"context_idxs\"].to(device, non_blocking=True)\n",
        "            tag_idx = data_batch[\"tag_idx\"].to(device, non_blocking=True)\n",
        "\n",
        "\n",
        "            # Perform the forward pass to calculate the model's output\n",
        "            logits = model(context_idxs)\n",
        "\n",
        "            # Calculate the loss using the output and the ground truth tags\n",
        "            loss = F.cross_entropy(logits, tag_idx)\n",
        "\n",
        "\n",
        "            losses.append(loss.item())\n",
        "            ground_truth.extend(tag_idx.tolist())\n",
        "            predictions.extend(logits.argmax(dim=-1).tolist())\n",
        "\n",
        "    return np.mean(losses), eval_metrics(ground_truth, predictions)\n",
        "\n",
        "\n",
        "def train_val_loop_ffnn(hyperparams: Dict[str, Any]) -> None:\n",
        "    \"\"\"\n",
        "    Train and validate the FFNN model for a number of epochs.\n",
        "    \"\"\"\n",
        "    print(\"Hyperparameters:\", hyperparams)\n",
        "    # Create the dataloaders\n",
        "    loader_train, loader_val, ds_train = create_fixed_window_dataloaders(\n",
        "        hyperparams[\"batch_size\"], hyperparams[\"window_size\"]\n",
        "    )\n",
        "    # Create the model\n",
        "    model = FFNN(\n",
        "        ds_train.words_vocab,\n",
        "        ds_train.tags_vocab,\n",
        "        hyperparams[\"window_size\"],\n",
        "        hyperparams[\"d_emb\"],\n",
        "        hyperparams[\"d_hidden\"],\n",
        "    )\n",
        "    device = get_device()\n",
        "    model.to(device)\n",
        "    print(model)\n",
        "    # Create the optimizer\n",
        "    optimizer = optim.RMSprop(\n",
        "        model.parameters(), hyperparams[\"learning_rate\"], weight_decay=hyperparams[\"l2\"]\n",
        "    )\n",
        "\n",
        "    # Train and validate\n",
        "    for i in range(hyperparams[\"num_epochs\"]):\n",
        "        print(\"Epoch #%d\" % i)\n",
        "\n",
        "        print(\"Training..\")\n",
        "        loss_train, metrics_train = train_ffnn(\n",
        "            model, loader_train, optimizer, device, silent=True\n",
        "        )\n",
        "        print(\"Training loss: \", loss_train)\n",
        "        print(\"Training metrics:\")\n",
        "        for k, v in metrics_train.items():\n",
        "            print(\"\\t\", k, \": \", v)\n",
        "\n",
        "        print(\"Validating..\")\n",
        "        loss_val, metrics_val = validate_ffnn(model, loader_val, device)\n",
        "        print(\"Validation loss: \", loss_val)\n",
        "        print(\"Validation metrics:\")\n",
        "        for k, v in metrics_val.items():\n",
        "            print(\"\\t\", k, \": \", v)\n",
        "\n",
        "    print(\"Done!\")"
      ]
    },
    {
      "cell_type": "markdown",
      "metadata": {
        "id": "FbuC7sYHX3Wl"
      },
      "source": [
        "We are ready to run experiments! Let's train the model for 5 epochs, with `window_size=2`. After each epoch, we perform validation and print the evaluation metrics."
      ]
    },
    {
      "cell_type": "code",
      "execution_count": 16,
      "metadata": {
        "id": "5ZTOFj9NXl65",
        "colab": {
          "base_uri": "https://localhost:8080/"
        },
        "outputId": "fbc1bec0-15d2-4e7a-f494-1280eac6dbfb"
      },
      "outputs": [
        {
          "output_type": "stream",
          "name": "stdout",
          "text": [
            "Hyperparameters: {'batch_size': 512, 'd_emb': 64, 'd_hidden': 128, 'window_size': 2, 'num_epochs': 5, 'learning_rate': 0.01, 'l2': 1e-06}\n",
            "Loading data from eng.train\n",
            "203621 examples loaded.\n",
            "Loading data from eng.val\n",
            "49086 examples loaded.\n",
            "FFNN(\n",
            "  (embedding): Embedding(20103, 64)\n",
            "  (hidden_layer): Linear(in_features=320, out_features=128, bias=True)\n",
            "  (output_layer): Linear(in_features=128, out_features=5, bias=True)\n",
            ")\n",
            "Epoch #0\n",
            "Training..\n",
            "Training loss:  0.1854153057696387\n",
            "Training metrics:\n",
            "\t accuracy :  0.9453616971032746\n",
            "\t f1 :  [0.74793185 0.97598861 0.68009768 0.82779203 0.80553264]\n",
            "\t average f1 :  0.8074685621915311\n",
            "\t confusion matrix :  [[  6826   2070    221    373    522]\n",
            " [   529 167323    397    731    296]\n",
            " [   246   1228   2785    165    163]\n",
            " [   250   1766     65   8876    152]\n",
            " [   390   1216    135    191   6348]]\n",
            "Validating..\n",
            "Validation loss:  0.13130962335465787\n",
            "Validation metrics:\n",
            "\t accuracy :  0.9614554047997392\n",
            "\t f1 :  [0.78547539 0.98410403 0.7721519  0.88190809 0.86703741]\n",
            "\t average f1 :  0.8581353638711704\n",
            "\t confusion matrix :  [[ 1644   345    58    69   134]\n",
            " [  111 40829    72    79    73]\n",
            " [   31   201   732    12    31]\n",
            " [   75   311     2  2274    28]\n",
            " [   75   127    25    33  1715]]\n",
            "Epoch #1\n",
            "Training..\n",
            "Training loss:  0.03574251625522671\n",
            "Training metrics:\n",
            "\t accuracy :  0.9898309587531486\n",
            "\t f1 :  [0.94016579 0.99672102 0.92300855 0.98116092 0.95651123]\n",
            "\t average f1 :  0.9595135033785803\n",
            "\t confusion matrix :  [[  9357    296    115     67    175]\n",
            " [   187 168857     81     71     69]\n",
            " [   117    214   4154     32     70]\n",
            " [    58     96     13  10911     39]\n",
            " [   176     97     51     43   7918]]\n",
            "Validating..\n",
            "Validation loss:  0.14091228526376653\n",
            "Validation metrics:\n",
            "\t accuracy :  0.9628814733325184\n",
            "\t f1 :  [0.8103122  0.98462657 0.76511397 0.88793103 0.87614339]\n",
            "\t average f1 :  0.8648254334581857\n",
            "\t confusion matrix :  [[ 1713   280    63    94   100]\n",
            " [  125 40638   137   137   127]\n",
            " [   23   160   772    19    33]\n",
            " [   54   211    18  2369    38]\n",
            " [   63    92    21    27  1772]]\n",
            "Epoch #2\n",
            "Training..\n",
            "Training loss:  0.022468797234414844\n",
            "Training metrics:\n",
            "\t accuracy :  0.9933387122166247\n",
            "\t f1 :  [0.96596044 0.99731647 0.96089631 0.98392688 0.97536529]\n",
            "\t average f1 :  0.9766930789453145\n",
            "\t confusion matrix :  [[  9620    209     42     40     95]\n",
            " [   146 168912     75     93     54]\n",
            " [    43    119   4374     16     30]\n",
            " [    32    118     13  10927     22]\n",
            " [    71     95     18     23   8077]]\n",
            "Validating..\n",
            "Validation loss:  0.16780700610585578\n",
            "Validation metrics:\n",
            "\t accuracy :  0.9628814733325184\n",
            "\t f1 :  [0.80317231 0.98349312 0.79913138 0.87537388 0.88355465]\n",
            "\t average f1 :  0.868945067074559\n",
            "\t confusion matrix :  [[ 1671   360    36    62   121]\n",
            " [   88 40932    49    41    54]\n",
            " [   38   209   736     7    17]\n",
            " [   50   422     4  2195    19]\n",
            " [   64   151    10    20  1730]]\n",
            "Epoch #3\n",
            "Training..\n",
            "Training loss:  0.02216651834962744\n",
            "Training metrics:\n",
            "\t accuracy :  0.993073047858942\n",
            "\t f1 :  [0.96899885 0.99693617 0.96304443 0.98113548 0.97548278]\n",
            "\t average f1 :  0.9771195429887847\n",
            "\t confusion matrix :  [[  9674    206     26     33     71]\n",
            " [   153 168877     74    121     69]\n",
            " [    38    134   4378      7     27]\n",
            " [    34    170      7  10870     21]\n",
            " [    58    111     23     25   8057]]\n",
            "Validating..\n",
            "Validation loss:  0.15645531770951493\n",
            "Validation metrics:\n",
            "\t accuracy :  0.9642667970500753\n",
            "\t f1 :  [0.8119137  0.9848609  0.79978471 0.87553648 0.88888889]\n",
            "\t average f1 :  0.8721969367814164\n",
            "\t confusion matrix :  [[ 1731   320    39    55   105]\n",
            " [   93 40854    58    88    71]\n",
            " [   31   190   743    21    22]\n",
            " [   90   327     2  2244    27]\n",
            " [   69   109     9    28  1760]]\n",
            "Epoch #4\n",
            "Training..\n",
            "Training loss:  0.01736245124122264\n",
            "Training metrics:\n",
            "\t accuracy :  0.9945538806675063\n",
            "\t f1 :  [0.97473431 0.99773244 0.96967707 0.98536366 0.97945619]\n",
            "\t average f1 :  0.9813927330628713\n",
            "\t confusion matrix :  [[  9722    159     32     36     55]\n",
            " [   113 168961     57     84     58]\n",
            " [    23    101   4429     13     25]\n",
            " [    36    109      4  10940     19]\n",
            " [    50     87     22     24   8105]]\n",
            "Validating..\n",
            "Validation loss:  0.16659233471849197\n",
            "Validation metrics:\n",
            "\t accuracy :  0.9637982316750193\n",
            "\t f1 :  [0.80339527 0.98461613 0.80210526 0.88322884 0.88549618]\n",
            "\t average f1 :  0.8717683375519851\n",
            "\t confusion matrix :  [[ 1751   306    44    51    98]\n",
            " [  165 40802    65    80    52]\n",
            " [   27   181   762    13    24]\n",
            " [   89   302     4  2254    41]\n",
            " [   77   124    18    16  1740]]\n",
            "Done!\n"
          ]
        }
      ],
      "source": [
        "train_val_loop_ffnn(\n",
        "    {\n",
        "        \"batch_size\": 512,\n",
        "        \"d_emb\": 64,\n",
        "        \"d_hidden\": 128,\n",
        "        \"window_size\": 2,\n",
        "        \"num_epochs\": 5,\n",
        "        \"learning_rate\": 0.01,\n",
        "        \"l2\": 1e-6,\n",
        "    }\n",
        ")"
      ]
    },
    {
      "cell_type": "markdown",
      "metadata": {
        "id": "h52XPGEg7JOu"
      },
      "source": [
        "Please re-run with `window_size=1`. How does the final performance change?"
      ]
    },
    {
      "cell_type": "code",
      "execution_count": 17,
      "metadata": {
        "id": "TvikQAmC2aW1",
        "colab": {
          "base_uri": "https://localhost:8080/"
        },
        "outputId": "ca936f1f-b54a-41f6-e010-802064050a7d"
      },
      "outputs": [
        {
          "output_type": "stream",
          "name": "stdout",
          "text": [
            "Hyperparameters: {'batch_size': 512, 'd_emb': 64, 'd_hidden': 128, 'window_size': 1, 'num_epochs': 5, 'learning_rate': 0.01, 'l2': 1e-06}\n",
            "Loading data from eng.train\n",
            "203621 examples loaded.\n",
            "Loading data from eng.val\n",
            "49086 examples loaded.\n",
            "FFNN(\n",
            "  (embedding): Embedding(20103, 64)\n",
            "  (hidden_layer): Linear(in_features=192, out_features=128, bias=True)\n",
            "  (output_layer): Linear(in_features=128, out_features=5, bias=True)\n",
            ")\n",
            "Epoch #0\n",
            "Training..\n",
            "Training loss:  0.1827573395458517\n",
            "Training metrics:\n",
            "\t accuracy :  0.9447811712846348\n",
            "\t f1 :  [0.72706887 0.97685731 0.68634406 0.82093843 0.80620742]\n",
            "\t average f1 :  0.8034832182416338\n",
            "\t confusion matrix :  [[  6809   1994    225    442    539]\n",
            " [   845 167279    172    675    305]\n",
            " [   327   1087   2709    270    193]\n",
            " [   319   1713     83   8853    147]\n",
            " [   421   1135    119    213   6390]]\n",
            "Validating..\n",
            "Validation loss:  0.13756559382697256\n",
            "Validation metrics:\n",
            "\t accuracy :  0.9569938475329014\n",
            "\t f1 :  [0.77108434 0.98274305 0.77360515 0.8450132  0.84874588]\n",
            "\t average f1 :  0.8442383244582963\n",
            "\t confusion matrix :  [[ 1696   309    44    61   140]\n",
            " [  170 40803    66    56    69]\n",
            " [   47   188   721    17    34]\n",
            " [  121   426     9  2080    54]\n",
            " [  115   149    17    19  1675]]\n",
            "Epoch #1\n",
            "Training..\n",
            "Training loss:  0.04102850432322368\n",
            "Training metrics:\n",
            "\t accuracy :  0.98828125\n",
            "\t f1 :  [0.92632747 0.99652985 0.91535214 0.98023858 0.94418324]\n",
            "\t average f1 :  0.9525262557926439\n",
            "\t confusion matrix :  [[  9185    338    119     65    307]\n",
            " [   212 168857     85     69     55]\n",
            " [   123    207   4120     46     84]\n",
            " [    66     94     32  10888     29]\n",
            " [   231    116     66     38   7832]]\n",
            "Validating..\n",
            "Validation loss:  0.149969571493178\n",
            "Validation metrics:\n",
            "\t accuracy :  0.9572586888318462\n",
            "\t f1 :  [0.77894277 0.98171959 0.78894205 0.84526932 0.86661363]\n",
            "\t average f1 :  0.8522974712402267\n",
            "\t confusion matrix :  [[ 1783   279    39    52    97]\n",
            " [  254 40734    66    78    32]\n",
            " [   42   188   742    19    16]\n",
            " [  127   449     2  2095    17]\n",
            " [  122   171    25    23  1634]]\n",
            "Epoch #2\n",
            "Training..\n",
            "Training loss:  0.028777964648929066\n",
            "Training metrics:\n",
            "\t accuracy :  0.9914052660579346\n",
            "\t f1 :  [0.94976894 0.99701535 0.95042322 0.98112868 0.96304335]\n",
            "\t average f1 :  0.9682759050864072\n",
            "\t confusion matrix :  [[  9454    241     66     52    200]\n",
            " [   176 168861     74    101     51]\n",
            " [    68    134   4323     22     40]\n",
            " [    44    144     12  10892     21]\n",
            " [   153     90     35     23   7987]]\n",
            "Validating..\n",
            "Validation loss:  0.15752580506280842\n",
            "Validation metrics:\n",
            "\t accuracy :  0.9574216680927352\n",
            "\t f1 :  [0.7905945  0.98214891 0.76747645 0.85152672 0.86571056]\n",
            "\t average f1 :  0.8514914278979797\n",
            "\t confusion matrix :  [[ 1782   251    70    65    82]\n",
            " [  228 40549   124   193    70]\n",
            " [   33   159   774    27    14]\n",
            " [   74   341    10  2231    34]\n",
            " [  141   108    32    34  1660]]\n",
            "Epoch #3\n",
            "Training..\n",
            "Training loss:  0.027445262363086684\n",
            "Training metrics:\n",
            "\t accuracy :  0.9913659083753149\n",
            "\t f1 :  [0.95518334 0.99681224 0.95266402 0.97770371 0.96293613]\n",
            "\t average f1 :  0.969059889564529\n",
            "\t confusion matrix :  [[  9495    219     59     48    178]\n",
            " [   148 168858     74    135     65]\n",
            " [    60    149   4327     20     30]\n",
            " [    48    170     11  10853     30]\n",
            " [   131    120     27     33   7976]]\n",
            "Validating..\n",
            "Validation loss:  0.17038533103186637\n",
            "Validation metrics:\n",
            "\t accuracy :  0.9590310882940146\n",
            "\t f1 :  [0.79409762 0.9827744  0.8071506  0.84574151 0.85729059]\n",
            "\t average f1 :  0.8574109438838391\n",
            "\t confusion matrix :  [[ 1749   319    34    50    98]\n",
            " [  137 40793    43   119    72]\n",
            " [   40   186   745    17    19]\n",
            " [  118   392     4  2130    46]\n",
            " [  111   162    13    31  1658]]\n",
            "Epoch #4\n",
            "Training..\n",
            "Training loss:  0.023134026493436145\n",
            "Training metrics:\n",
            "\t accuracy :  0.9927680258186398\n",
            "\t f1 :  [0.96075574 0.99731676 0.96080799 0.98444615 0.96692419]\n",
            "\t average f1 :  0.9740501654988833\n",
            "\t confusion matrix :  [[  9560    206     50     35    152]\n",
            " [   128 168930     69     91     69]\n",
            " [    48    125   4376     11     25]\n",
            " [    40    113      6  10918     26]\n",
            " [   122    108     23     23   8010]]\n",
            "Validating..\n",
            "Validation loss:  0.1654615172034634\n",
            "Validation metrics:\n",
            "\t accuracy :  0.9606405084952939\n",
            "\t f1 :  [0.79161816 0.98309083 0.80803808 0.85487078 0.87813713]\n",
            "\t average f1 :  0.8631509934586038\n",
            "\t confusion matrix :  [[ 1700   320    42    84   104]\n",
            " [  150 40843    57    64    50]\n",
            " [   31   173   764    21    18]\n",
            " [   77   438     4  2150    21]\n",
            " [   87   153    17    21  1697]]\n",
            "Done!\n"
          ]
        }
      ],
      "source": [
        "train_val_loop_ffnn(\n",
        "    {\n",
        "        \"batch_size\": 512,\n",
        "        \"d_emb\": 64,\n",
        "        \"d_hidden\": 128,\n",
        "        \"window_size\": 1,\n",
        "        \"num_epochs\": 5,\n",
        "        \"learning_rate\": 0.01,\n",
        "        \"l2\": 1e-6,\n",
        "    }\n",
        ")\n"
      ]
    },
    {
      "cell_type": "markdown",
      "metadata": {
        "id": "rGgA0zExVtg9"
      },
      "source": [
        "### Question **(1 point)**\n",
        "\n",
        "If everything works as expected, you should see the loss decrease and the accuracy increase for both training and validation. The final accuracy can be pretty high; you should probably debug if it's below 92%. However, **is accuracy a good metric for this problem? Why?**. Hint: look at the F1 scores for different tags and the confusion matrix.\n",
        "\n",
        "**TODO: Please fill in your answer here**\n"
      ]
    },
    {
      "cell_type": "markdown",
      "source": [
        "Accuracy alone might not be the best metric for evaluating Named Entity Recognition (NER) models because it doesn't take into account the class imbalance and the importance of different classes. In NER tasks, the classes (NER tags) might be imbalanced, meaning some classes occur more frequently than others in the dataset.\n",
        "\n",
        "F1 score is often a better metric for NER tasks because it considers both precision and recall. Precision measures the proportion of correctly predicted instances among all instances predicted as positive, while recall measures the proportion of correctly predicted instances among all actual positive instances. F1 score is the harmonic mean of precision and recall, giving a balanced measure between the two.\n",
        "\n",
        "Additionally, looking at F1 scores for different tags and the confusion matrix can provide insights into the model's performance for each tag individually. This is important because different tags might have different levels of difficulty in prediction. For example, some tags might be rare in the dataset and therefore harder to predict accurately.\n",
        "\n",
        "The confusion matrix shows how often each class is misclassified as another class, which can help identify specific patterns of errors made by the model. For example, it can reveal if certain tags are consistently confused with each other, indicating areas for improvement in the model or the data preprocessing."
      ],
      "metadata": {
        "id": "3xM7WJz8cdhk"
      }
    },
    {
      "cell_type": "code",
      "execution_count": 33,
      "metadata": {
        "id": "aF-aiPJ4JRbW",
        "colab": {
          "base_uri": "https://localhost:8080/"
        },
        "outputId": "7e61e918-b116-4698-dcea-d833bc5deaa9"
      },
      "outputs": [
        {
          "output_type": "stream",
          "name": "stdout",
          "text": [
            "Hyperparameters: {'batch_size': 512, 'd_emb': 64, 'd_hidden': 128, 'window_size': 15, 'num_epochs': 5, 'learning_rate': 0.01, 'l2': 1e-06}\n",
            "Loading data from eng.train\n",
            "203621 examples loaded.\n",
            "Loading data from eng.val\n",
            "49086 examples loaded.\n",
            "FFNN(\n",
            "  (embedding): Embedding(20103, 64)\n",
            "  (hidden_layer): Linear(in_features=1984, out_features=128, bias=True)\n",
            "  (output_layer): Linear(in_features=128, out_features=5, bias=True)\n",
            ")\n",
            "Epoch #0\n",
            "Training..\n",
            "Training loss:  0.3459524408883652\n",
            "Training metrics:\n",
            "\t accuracy :  0.9053939704030227\n",
            "\t f1 :  [0.55598598 0.95647735 0.41392536 0.66000317 0.59858851]\n",
            "\t average f1 :  0.6369960744757155\n",
            "\t confusion matrix :  [[  4521   4154    219    590    527]\n",
            " [   365 167714    285    510    393]\n",
            " [   455   2234   1403    184    310]\n",
            " [   403   4200     57   6240    211]\n",
            " [   508   3122    229    274   4156]]\n",
            "Validating..\n",
            "Validation loss:  0.1493383192961725\n",
            "Validation metrics:\n",
            "\t accuracy :  0.9549362343641772\n",
            "\t f1 :  [0.74928081 0.98377856 0.69930814 0.86063191 0.82882883]\n",
            "\t average f1 :  0.8243656495912486\n",
            "\t confusion matrix :  [[ 1693   298    64    81   114]\n",
            " [  205 40694    80   103    82]\n",
            " [   72   196   657    27    55]\n",
            " [  148   263    10  2220    49]\n",
            " [  151   115    61    38  1610]]\n",
            "Epoch #1\n",
            "Training..\n",
            "Training loss:  0.052808036546807\n",
            "Training metrics:\n",
            "\t accuracy :  0.9847882556675063\n",
            "\t f1 :  [0.91663732 0.9952459  0.87872317 0.96509425 0.93565196]\n",
            "\t average f1 :  0.9382705211785748\n",
            "\t confusion matrix :  [[  9110    399    141    128    239]\n",
            " [   229 168732    101    142     68]\n",
            " [   170    320   3909     54    136]\n",
            " [   118    195     33  10700     54]\n",
            " [   233    158    124     50   7721]]\n",
            "Validating..\n",
            "Validation loss:  0.14929129268299826\n",
            "Validation metrics:\n",
            "\t accuracy :  0.9617406185062951\n",
            "\t f1 :  [0.79413135 0.98412622 0.77546667 0.87432782 0.87297571]\n",
            "\t average f1 :  0.8602055527629048\n",
            "\t confusion matrix :  [[ 1705   343    47    44   111]\n",
            " [  111 40856    73    52    72]\n",
            " [   35   186   727    21    38]\n",
            " [  119   341     4  2195    31]\n",
            " [   74   140    17    19  1725]]\n",
            "Epoch #2\n",
            "Training..\n",
            "Training loss:  0.021025165867984707\n",
            "Training metrics:\n",
            "\t accuracy :  0.9939487562972292\n",
            "\t f1 :  [0.96870298 0.99766208 0.95733451 0.98694164 0.97785308]\n",
            "\t average f1 :  0.9776988567178699\n",
            "\t confusion matrix :  [[  9657    187     55     35     73]\n",
            " [   121 168985     61     74     37]\n",
            " [    44    139   4353     15     36]\n",
            " [    33     95      5  10959     19]\n",
            " [    76     78     33     14   8080]]\n",
            "Validating..\n",
            "Validation loss:  0.18716626734021702\n",
            "Validation metrics:\n",
            "\t accuracy :  0.9604164120115716\n",
            "\t f1 :  [0.79852126 0.98302801 0.78579356 0.85772942 0.87010412]\n",
            "\t average f1 :  0.8590352735346954\n",
            "\t confusion matrix :  [[ 1728   340    32    38   112]\n",
            " [  137 40863    43    32    89]\n",
            " [   39   199   708    12    49]\n",
            " [  101   444     2  2089    54]\n",
            " [   73   127    10    10  1755]]\n",
            "Epoch #3\n",
            "Training..\n",
            "Training loss:  0.01910913059715491\n",
            "Training metrics:\n",
            "\t accuracy :  0.9940619096347607\n",
            "\t f1 :  [0.97349567 0.99739892 0.97048821 0.9823977  0.9791969 ]\n",
            "\t average f1 :  0.9805954775197682\n",
            "\t confusion matrix :  [[  9715    167     26     44     57]\n",
            " [   131 168912     58    117     66]\n",
            " [    23    103   4423     13     23]\n",
            " [    33    142      6  10911     17]\n",
            " [    48     97     17     19   8096]]\n",
            "Validating..\n",
            "Validation loss:  0.19892961708637813\n",
            "Validation metrics:\n",
            "\t accuracy :  0.9620869494356843\n",
            "\t f1 :  [0.80534629 0.98304108 0.78167116 0.87387739 0.88010471]\n",
            "\t average f1 :  0.8648081265817211\n",
            "\t confusion matrix :  [[ 1657   394    37    70    92]\n",
            " [   74 40924    58    73    35]\n",
            " [   33   211   725    18    20]\n",
            " [   40   387     8  2238    17]\n",
            " [   61   180    20    33  1681]]\n",
            "Epoch #4\n",
            "Training..\n",
            "Training loss:  0.016387506412319904\n",
            "Training metrics:\n",
            "\t accuracy :  0.9947260705289672\n",
            "\t f1 :  [0.97539217 0.99768519 0.97239264 0.98477477 0.98315116]\n",
            "\t average f1 :  0.9826791852141679\n",
            "\t confusion matrix :  [[  9731    159     21     34     57]\n",
            " [   113 168952     64    100     49]\n",
            " [    28     94   4438     11     17]\n",
            " [    33    131      5  10931     12]\n",
            " [    46     74     12     12   8140]]\n",
            "Validating..\n",
            "Validation loss:  0.21493172912050795\n",
            "Validation metrics:\n",
            "\t accuracy :  0.9598459845984598\n",
            "\t f1 :  [0.79532455 0.98179594 0.78022569 0.86282306 0.87035124]\n",
            "\t average f1 :  0.8581040948820222\n",
            "\t confusion matrix :  [[ 1599   425    51    67   108]\n",
            " [   73 40935    50    58    48]\n",
            " [   18   221   726    18    24]\n",
            " [   22   459     7  2170    32]\n",
            " [   59   184    20    27  1685]]\n",
            "Done!\n"
          ]
        }
      ],
      "source": [
        "train_val_loop_ffnn(\n",
        "    {\n",
        "        \"batch_size\": 512,\n",
        "        \"d_emb\": 64,\n",
        "        \"d_hidden\": 128,\n",
        "        \"window_size\": 15,\n",
        "        \"num_epochs\": 5,\n",
        "        \"learning_rate\": 0.01,\n",
        "        \"l2\": 1e-6,\n",
        "    }\n",
        ")"
      ]
    }
  ],
  "metadata": {
    "accelerator": "GPU",
    "colab": {
      "provenance": [],
      "include_colab_link": true
    },
    "kernelspec": {
      "display_name": "Python 3",
      "name": "python3"
    }
  },
  "nbformat": 4,
  "nbformat_minor": 0
}